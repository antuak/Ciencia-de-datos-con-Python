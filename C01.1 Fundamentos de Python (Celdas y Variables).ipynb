{
 "cells": [
  {
   "cell_type": "markdown",
   "metadata": {},
   "source": [
    "<img src=\"logo.png\">"
   ]
  },
  {
   "cell_type": "markdown",
   "metadata": {},
   "source": [
    "# Fundamentos de Python\n",
    "\n",
    "Python fue creado en 1991 por Guido Van Rossum. Se trata de un *lenguaje interpretado orientado a objetos* (un lenguaje compilado como Java, es aquel que antes de ser interpretado tiene que ser \"traducido\" a un código que entienda la máquina; un lenguaje interpretado es aquel que, mientras escribes, la máquina va entendiendo). Python está enfocado en ser lenguaje con alta legibilidad (un lenguaje de alto nivel).\n",
    "\n",
    "**¿Por qué usar Python en Ciencia de datos?**\n",
    "\n",
    "Python tiene muchísimas bibliotecas diseñadas específicamente para trabajar la Ciencia de datos. En el siguiente diagrama podemos ver algunas:\n",
    "\n",
    "<img src=\"diagrama_python.png\" width=\"400\">\n",
    "\n",
    "**¿Dónde encontrar ayuda?**\n",
    "\n",
    "Es importante saber dónde podemos hacer preguntas en general sobre temas de Ciencia de datos con los diferentes lenguajes que utilicemos. Para esto se cuenta con [Stack Overflow](https://stackoverflow.com/) (también existe versión en [español](https://es.stackoverflow.com/)) o bien [Reddit](https://www.reddit.com/r/learnpython/)"
   ]
  },
  {
   "cell_type": "markdown",
   "metadata": {},
   "source": [
    "## Spyder\n",
    "\n",
    "Para programar en Python hay muchos IDE's (entorno de desarrollo integrado; su trabajo es parecido al de un editor de texto). Existen diferentes que hacen que las funcionalidades sean mas rápidas. En particular, en Anaconda existe Spyder. \n"
   ]
  },
  {
   "cell_type": "markdown",
   "metadata": {},
   "source": [
    "Lo primero que recordaremos será cómo hacer comentarios en Python e imprimir en pantalla."
   ]
  },
  {
   "cell_type": "code",
   "execution_count": null,
   "metadata": {},
   "outputs": [],
   "source": [
    "# Esto es un comentario simple\n",
    "\n",
    "\"\"\"Esto es un bloque\n",
    "de comentarios\"\"\"\n",
    "\n",
    "print(\"Hola mundo\")\n"
   ]
  },
  {
   "cell_type": "markdown",
   "metadata": {},
   "source": [
    "El código se puede separar en varias líneas usando \\"
   ]
  },
  {
   "cell_type": "code",
   "execution_count": null,
   "metadata": {},
   "outputs": [],
   "source": [
    "2+\\\n",
    "2"
   ]
  },
  {
   "cell_type": "markdown",
   "metadata": {},
   "source": [
    "Pero el siguiente código nos marcará un error"
   ]
  },
  {
   "cell_type": "code",
   "execution_count": null,
   "metadata": {},
   "outputs": [],
   "source": [
    "2+\n",
    "2"
   ]
  },
  {
   "cell_type": "markdown",
   "metadata": {},
   "source": [
    "**Las celdas en Spyder**\n",
    "\n",
    "En general, dentro de Spyder uno puede trabajar con un script o directamente sobre el intérprete. El inconveniente general de los scripts, a diferencia de RStudio, es que siempre se ejecutan en su totalidad y no solo un bloque de código. \n",
    "\n",
    "Para librar este inconveniente, se utiliza lo que se conoce como *celdas de Spyder*. Una celda de Spyder no es otra cosa mas que un bloque de código que se puede ejecutar únicamente sin tener que ejecutar todo el script.\n",
    "\n",
    "Para definir una celda usamos `#%%`\n",
    "\n",
    "**Ejemplo.**\n",
    "\n",
    "Tomemos el siguiente código:\n",
    "\n",
    "`#%%`\n",
    "\n",
    "``\n",
    "print(\"Hola mundo\")``\n",
    "\n",
    "`#%%`\n",
    "\n",
    "``suma = 2+4\n",
    "print(suma)\n",
    "``\n",
    "\n",
    "Lo anterior también puede hacerse al estilo de RStudio con la tecla **F9** y sin necesidad de utilizar celdas.\n",
    "\n"
   ]
  },
  {
   "cell_type": "markdown",
   "metadata": {},
   "source": [
    "## Variables.\n",
    "\n",
    "Las variables son objetos donde podemos guardar información. Las variables *primitivas* básicas de Python son los strings, las numéricas y las lógicas. Para saber de qué tipo es una variable usamos ``type``.\n",
    "\n"
   ]
  },
  {
   "cell_type": "markdown",
   "metadata": {},
   "source": [
    "### Strings\n",
    "\n",
    "Son variables que se declaran utilizando comillas.\n",
    "\n",
    "``str1 = \"hola\"\n",
    "str2 = \"mundo\"\n",
    "print(str1)``\n",
    "\n",
    "Además, para concatenar strings podemos usar el operador ``+``\n",
    "\n",
    "``print(str1 + \" \" + str2)``\n",
    "\n",
    "Y podemos usar el operador `*` para realizar repeticiones de strings\n",
    "\n",
    "``print(3 * str2)``\n",
    "\n",
    "Además, existen *métodos* que ya vienen incluidos en las variables string. Uno de ellos es *format*, que nos permite insertar strings dentro de strings:\n",
    "\n",
    "``curso1 = \"CDD_Py\"\n",
    "instructor1 = \"Héctor\"\n",
    "presentacion = \"Hola; bienvenido al Diplomado {} de SciData.\\nTu instructor es {}\".format(curso,instructor)\n",
    "print(presentacion+\"\\n\")``\n",
    "\n",
    "E incluso mas elegante para automatizar:\n",
    "\n",
    "``curso2 = \"CDD_R\"\n",
    "instructor2 = \"Manuel\"\n",
    "presentacion_aut = \"Hola; bienvenido al Diplomado {} de SciData.\\nTu instructor es {}\"\n",
    "print(presentacion_aut.format(curso2,instructor2))``\n",
    "\n",
    "Incluso, a partir de **Python 3.6** podemos \"prescindir\" de format y aplicar directamente mediante un *f-string*. **Nótese la letra f antes del string:**\n",
    "\n",
    "``print(f\"Hola. Soy {instructor1} {instructor2} de SciData. Bienvenido a {curso1}.\")``\n",
    "\n"
   ]
  },
  {
   "cell_type": "markdown",
   "metadata": {},
   "source": [
    "Otros métodos importantes de los strings de Python son *upper*, *lower* y *capitalize*.\n",
    "\n",
    "``\n",
    "nombre_curso = \"ciencia de datos con Python\"\n",
    "print(nombre_curso.upper())\n",
    "print(nombre_curso.lower())\n",
    "print(nombre_curso.capitalize())\n",
    "``\n"
   ]
  },
  {
   "cell_type": "markdown",
   "metadata": {},
   "source": [
    "Incluso, también son comunes los métodos para eliminar, reemplazar o particionar caracteres.\n",
    "\n",
    "``Nombre_puntos = \"..Manuel...\"\n",
    "print(Nombre_puntos.strip(\".\"))\n",
    "print(Nombre_puntos.replace(\"nuel\",\"riano\"))\n",
    "print(Nombre_puntos.strip(\".\").replace(\"nuel\",\"riano\"))``\n",
    "\n",
    "``\n",
    "Nombre_Completo = \"Héctor_Manuel_Garduño\"\n",
    "print(Nombre_Completo.split(\"_\"))\n",
    "``\n",
    "\n",
    "**Observación.** El método *split* nos devuelve una lista donde cada elemento corresponde al string separado. \n"
   ]
  },
  {
   "cell_type": "markdown",
   "metadata": {},
   "source": [
    "## Númericos\n",
    "\n",
    "Hay dos tipos básicos de datos primitivos de tipo numérico: enteros y flotantes. Los enteros, como su nombre lo dice, son aquellos que no tienen punto decimal, mientras que los flotantes **siempre** lo tienen. \n",
    "\n",
    "Por ejemplo, ``2020`` es un entero, en tanto ``2020.`` es un flotante por el simple hecho de tener un decimal."
   ]
  },
  {
   "cell_type": "code",
   "execution_count": null,
   "metadata": {},
   "outputs": [],
   "source": [
    "print(f\"El número 2020 es de tipo {type(2020)} en tanto que 2020. es de tipo {type(2020.)}\")"
   ]
  },
  {
   "cell_type": "markdown",
   "metadata": {},
   "source": [
    "Podemos convertir numéricos en strings fácilmente utilizando la función `str(variable_numérica)`\n",
    "\n",
    "\n",
    "\n"
   ]
  },
  {
   "cell_type": "code",
   "execution_count": null,
   "metadata": {},
   "outputs": [],
   "source": [
    "num1 = 2020\n",
    "print(\"21\"+str(num1))"
   ]
  },
  {
   "cell_type": "markdown",
   "metadata": {},
   "source": [
    "Incluso también podemos usar numéricos en las f-strings:"
   ]
  },
  {
   "cell_type": "code",
   "execution_count": null,
   "metadata": {},
   "outputs": [],
   "source": [
    "nombre = \"Héctor\"\n",
    "curso = \"CDD_Py\"\n",
    "estimacion = 35\n",
    "\n",
    "print(f\"Hola. Me llamo {nombre} e impartiré el Diplomado {curso} que tiene duración de {estimacion} horas.\")\n"
   ]
  },
  {
   "cell_type": "markdown",
   "metadata": {},
   "source": [
    "Además, es posible, siempre que tenga sentido, convertir strings en numéricos:"
   ]
  },
  {
   "cell_type": "code",
   "execution_count": null,
   "metadata": {},
   "outputs": [],
   "source": [
    "num_str = \"2020.4\"\n",
    "print(float(num_str)/2)"
   ]
  },
  {
   "cell_type": "markdown",
   "metadata": {},
   "source": [
    "Y de hecho podemos convertir flotantes en enteros quitando los decimales."
   ]
  },
  {
   "cell_type": "code",
   "execution_count": null,
   "metadata": {},
   "outputs": [],
   "source": [
    "print(int(float(num_str)/2))"
   ]
  },
  {
   "cell_type": "markdown",
   "metadata": {},
   "source": [
    "Por otra parte, las operaciones básicas entre numéricos se realiza de manera natural con los operadores usuales."
   ]
  },
  {
   "cell_type": "code",
   "execution_count": null,
   "metadata": {},
   "outputs": [],
   "source": [
    "print(\"La suma, la resta, el producto y la división de 2 y 3 es \",2 + 3,\",\", 2 - 3,\",\", 2 * 3,\"y\", 2 / 3, \",respectivamente\")"
   ]
  },
  {
   "cell_type": "markdown",
   "metadata": {},
   "source": [
    "Operaciones mas complicadas como la división, el resto y las potencias obedecen a las siguientes sintaxis."
   ]
  },
  {
   "cell_type": "code",
   "execution_count": null,
   "metadata": {},
   "outputs": [],
   "source": [
    "a = 5; b = 3\n",
    "print(a // b)\n",
    "print(a % b)\n",
    "print(a ** b)"
   ]
  },
  {
   "cell_type": "markdown",
   "metadata": {},
   "source": [
    "## Booleanos (lógicos)\n",
    "\n",
    "Las variables booleanas son aquellas que únicamente pueden ser verdaderas o falsas: `True` y `False`."
   ]
  },
  {
   "cell_type": "code",
   "execution_count": null,
   "metadata": {},
   "outputs": [],
   "source": [
    "type(True)"
   ]
  },
  {
   "cell_type": "markdown",
   "metadata": {},
   "source": [
    "La manera en la que Python decide si una variable booleana es verdadera o falsa es la siguiente:\n",
    "\n",
    "* Si la expresión lógica es cierta, el resultado es ```True```.\n",
    "* Si la expresión lógica NO es cierta, el resultado es ```False```.\n",
    "* *False* equivale numéricamente a ```0```. \n",
    "* Cualquier otro valor no vacío equivale a ```True``` y su valor por defecto es ```1```."
   ]
  },
  {
   "cell_type": "code",
   "execution_count": null,
   "metadata": {},
   "outputs": [],
   "source": [
    "a=1\n",
    "b=2\n",
    "c=\"Hola\""
   ]
  },
  {
   "cell_type": "code",
   "execution_count": null,
   "metadata": {},
   "outputs": [],
   "source": [
    "a>b"
   ]
  },
  {
   "cell_type": "code",
   "execution_count": null,
   "metadata": {},
   "outputs": [],
   "source": [
    "d=bool(c); d"
   ]
  },
  {
   "cell_type": "code",
   "execution_count": null,
   "metadata": {},
   "outputs": [],
   "source": [
    "int(d)"
   ]
  },
  {
   "cell_type": "markdown",
   "metadata": {},
   "source": [
    "Existe un tipo primitivo especial llamado `None`. Esta juega el papel variable nula y es el único objeto de este tipo. Representa un valor nulo.\n",
    "\n",
    "Una expresión que dé por resultado None no es desplegado por el intérprete."
   ]
  },
  {
   "cell_type": "code",
   "execution_count": null,
   "metadata": {},
   "outputs": [],
   "source": [
    "type(None)"
   ]
  },
  {
   "cell_type": "markdown",
   "metadata": {},
   "source": [
    "La siguiente celda incluye al objeto None, pero al ejecutarla, no se despliega nada."
   ]
  },
  {
   "cell_type": "code",
   "execution_count": null,
   "metadata": {},
   "outputs": [],
   "source": [
    "None"
   ]
  },
  {
   "cell_type": "markdown",
   "metadata": {},
   "source": [
    "Podemos hacer comparaciones entre variables; el resultado siempre es un booleano.\n",
    "\n",
    "``a=2020\n",
    "b=4040\n",
    "print(f\"¿{a} > {b}?\\n\",a > b)\n",
    "print(f\"¿{a} < {b}?\\n\",a < b)\n",
    "print(f\"¿{a} > {b}?\\n\",a == b)\n",
    "print(f\"¿{a} es diferente de {b}?\\n\",a != b)\n",
    "print(f\"La negación de '{a}!=23' es\", not a != 23)``\n",
    "\n"
   ]
  },
  {
   "cell_type": "code",
   "execution_count": null,
   "metadata": {},
   "outputs": [],
   "source": [
    "a=2020\n",
    "b=4040\n",
    "print(f\"¿{a} > {b}?\\n\",a > b)\n",
    "print(f\"¿{a} < {b}?\\n\",a < b)\n",
    "print(f\"¿{a} > {b}?\\n\",a == b)\n",
    "print(f\"¿{a} es diferente de {b}?\\n\",a != b)\n",
    "print(f\"La negación de '{a}!=23' es\", not a != 23)"
   ]
  },
  {
   "cell_type": "markdown",
   "metadata": {},
   "source": [
    "Incluso también tenemos podemos evaluar condiciones compuestas con los operadores ``and`` y `or`\n",
    "\n",
    "`print(f\"¿{a}!=23 y {a}>{b}?\\n\", a!=23 and a>b)\n",
    "print(f\"¿{a}!=23 or {a}>{b}?\\n\", a!=23 or a>b)`"
   ]
  },
  {
   "cell_type": "code",
   "execution_count": null,
   "metadata": {},
   "outputs": [],
   "source": [
    "print(f\"¿{a} != 23 y {a} > {b}?\\n\", a!=23 and a>b)\n",
    "print(f\"¿{a} != 23 o {a} > {b}?\\n\", a!=23 or a>b)"
   ]
  },
  {
   "cell_type": "markdown",
   "metadata": {},
   "source": [
    "Para comparar si algo es verdadero o falso no usamos `==` sino `is`\n",
    "\n",
    "``\n",
    "Ana = True\n",
    "print(f\"¿El valor de Ana es una verdad?\\n\", Ana is True)``"
   ]
  },
  {
   "cell_type": "code",
   "execution_count": null,
   "metadata": {},
   "outputs": [],
   "source": [
    "Ana = True\n",
    "print(not(Ana is False))"
   ]
  }
 ],
 "metadata": {
  "kernelspec": {
   "display_name": "Python 3",
   "language": "python",
   "name": "python3"
  },
  "language_info": {
   "codemirror_mode": {
    "name": "ipython",
    "version": 3
   },
   "file_extension": ".py",
   "mimetype": "text/x-python",
   "name": "python",
   "nbconvert_exporter": "python",
   "pygments_lexer": "ipython3",
   "version": "3.7.7"
  }
 },
 "nbformat": 4,
 "nbformat_minor": 4
}
